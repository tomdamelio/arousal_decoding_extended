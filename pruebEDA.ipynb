{
 "cells": [
  {
   "cell_type": "code",
   "execution_count": null,
   "metadata": {},
   "outputs": [],
   "source": []
  }
 ],
 "metadata": {
  "kernelspec": {
   "display_name": "Python 3.9.7 ('base')",
   "language": "python",
   "name": "python3"
  },
  "language_info": {
   "name": "python",
   "version": "3.9.7"
  },
  "orig_nbformat": 4,
  "vscode": {
   "interpreter": {
    "hash": "75d28a4c943af93f3c5ef0051379ef23950f7970d3ac2d16d44be87ff6751af7"
   }
  }
 },
 "nbformat": 4,
 "nbformat_minor": 2
}
